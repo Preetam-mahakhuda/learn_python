{
 "cells": [
  {
   "cell_type": "code",
   "execution_count": 6,
   "id": "5dec8099-4747-4e35-b50a-75196161489d",
   "metadata": {},
   "outputs": [],
   "source": [
    "import numpy as np"
   ]
  },
  {
   "cell_type": "code",
   "execution_count": 3,
   "id": "3b5c384e-4d4d-4997-9379-333adda5073d",
   "metadata": {},
   "outputs": [
    {
     "data": {
      "text/plain": [
       "array([1, 2, 3, 4, 5])"
      ]
     },
     "execution_count": 3,
     "metadata": {},
     "output_type": "execute_result"
    }
   ],
   "source": [
    "#Creating an Array\n",
    "arr = np.array([1,2,3,4,5])\n",
    "arr"
   ]
  },
  {
   "cell_type": "code",
   "execution_count": 6,
   "id": "996e4b50-c08c-4e1d-a83a-15dd8c3ed59b",
   "metadata": {},
   "outputs": [
    {
     "data": {
      "text/plain": [
       "array(80)"
      ]
     },
     "execution_count": 6,
     "metadata": {},
     "output_type": "execute_result"
    }
   ],
   "source": [
    "# 0-D array\n",
    "arr0 = np.array(80)\n",
    "arr0"
   ]
  },
  {
   "cell_type": "code",
   "execution_count": 10,
   "id": "02fc838b-02e2-493a-a950-1e4e3efee280",
   "metadata": {},
   "outputs": [
    {
     "name": "stdout",
     "output_type": "stream",
     "text": [
      "0\n"
     ]
    },
    {
     "data": {
      "text/plain": [
       "1"
      ]
     },
     "execution_count": 10,
     "metadata": {},
     "output_type": "execute_result"
    }
   ],
   "source": [
    "#check dimension of array\n",
    "print(arr0.ndim)\n",
    "arr.ndim"
   ]
  },
  {
   "cell_type": "code",
   "execution_count": 24,
   "id": "3f8089d2-13a3-47eb-aead-e20619be1d29",
   "metadata": {},
   "outputs": [
    {
     "data": {
      "text/plain": [
       "array([[ 1,  2,  3,  4,  5],\n",
       "       [10, 20,  8,  9,  7]])"
      ]
     },
     "execution_count": 24,
     "metadata": {},
     "output_type": "execute_result"
    }
   ],
   "source": [
    "#2-D array\n",
    "arr2 = np.array([[1,2,3,4,5],[10,20,8,9,7]])\n",
    "arr2"
   ]
  },
  {
   "cell_type": "code",
   "execution_count": 17,
   "id": "94a0d76c-c9c0-4b4f-bccc-5220e6a09629",
   "metadata": {},
   "outputs": [
    {
     "data": {
      "text/plain": [
       "10"
      ]
     },
     "execution_count": 17,
     "metadata": {},
     "output_type": "execute_result"
    }
   ],
   "source": [
    "#Find total numbers of elements\n",
    "arr2.size"
   ]
  },
  {
   "cell_type": "code",
   "execution_count": 8,
   "id": "14fb482a-4d91-4d89-88b3-ff7993dc4915",
   "metadata": {},
   "outputs": [
    {
     "data": {
      "text/plain": [
       "80"
      ]
     },
     "execution_count": 8,
     "metadata": {},
     "output_type": "execute_result"
    }
   ],
   "source": [
    "#Total memory size taken by an array\n",
    "arr2.nbytes"
   ]
  },
  {
   "cell_type": "code",
   "execution_count": 19,
   "id": "0e6db6c8-d1b5-4391-bcba-2a7f7b9fbbe7",
   "metadata": {},
   "outputs": [
    {
     "data": {
      "text/plain": [
       "8"
      ]
     },
     "execution_count": 19,
     "metadata": {},
     "output_type": "execute_result"
    }
   ],
   "source": [
    "arr0.nbytes"
   ]
  },
  {
   "cell_type": "code",
   "execution_count": 25,
   "id": "c395f31c-373d-40d6-8eba-4dc26215b3d5",
   "metadata": {},
   "outputs": [
    {
     "data": {
      "text/plain": [
       "8"
      ]
     },
     "execution_count": 25,
     "metadata": {},
     "output_type": "execute_result"
    }
   ],
   "source": [
    "#Single element size\n",
    "'''\n",
    "[[ 1,  2,  3,  4,  5],\n",
    "[10, 20,  8,  9,  7]]\n",
    "'''\n",
    "arr2.itemsize"
   ]
  },
  {
   "cell_type": "code",
   "execution_count": 25,
   "id": "69f9686e-91cc-495c-9f9a-36bd1e5e4d81",
   "metadata": {},
   "outputs": [
    {
     "data": {
      "text/plain": [
       "dtype('int64')"
      ]
     },
     "execution_count": 25,
     "metadata": {},
     "output_type": "execute_result"
    }
   ],
   "source": [
    "#Data type of array\n",
    "arr2.dtype"
   ]
  },
  {
   "cell_type": "code",
   "execution_count": 26,
   "id": "3904815a-e045-4d1b-b850-b8ba8daf00b7",
   "metadata": {},
   "outputs": [
    {
     "name": "stdout",
     "output_type": "stream",
     "text": [
      "[[ 1  2  3  4  5]\n",
      " [10 20  8  9  7]]\n"
     ]
    }
   ],
   "source": [
    "print(arr2)"
   ]
  },
  {
   "cell_type": "code",
   "execution_count": 11,
   "id": "a8653c64-77ec-4c6c-b4b5-584d6be89aad",
   "metadata": {},
   "outputs": [
    {
     "data": {
      "text/plain": [
       "np.int64(9)"
      ]
     },
     "execution_count": 11,
     "metadata": {},
     "output_type": "execute_result"
    }
   ],
   "source": [
    "#Specific element of the array()\n",
    "arr2[1,3]"
   ]
  },
  {
   "cell_type": "code",
   "execution_count": 13,
   "id": "156db994-220b-4fed-814d-43bd751c7a46",
   "metadata": {},
   "outputs": [
    {
     "data": {
      "text/plain": [
       "array([1, 2, 3, 4, 5])"
      ]
     },
     "execution_count": 13,
     "metadata": {},
     "output_type": "execute_result"
    }
   ],
   "source": [
    "#find specific row from the array\n",
    "arr2[0,:]"
   ]
  },
  {
   "cell_type": "code",
   "execution_count": 14,
   "id": "1a36e67e-860a-4206-a3dd-e34abd6db959",
   "metadata": {},
   "outputs": [
    {
     "name": "stdout",
     "output_type": "stream",
     "text": [
      "[ 1  2  3  4  5  6  7  8  9 10]\n"
     ]
    }
   ],
   "source": [
    "arr3 = np.array([1,2,3,4,5,6,7,8,9,10])\n",
    "print(arr3)"
   ]
  },
  {
   "cell_type": "code",
   "execution_count": 16,
   "id": "753b38f8-47cf-4cce-b9cb-ff7a8e146a55",
   "metadata": {},
   "outputs": [
    {
     "data": {
      "text/plain": [
       "array([2, 3, 4, 5])"
      ]
     },
     "execution_count": 16,
     "metadata": {},
     "output_type": "execute_result"
    }
   ],
   "source": [
    "#(Start Index:Ending Index)[inclusive:exclusive]\n",
    "arr3[1:5]"
   ]
  },
  {
   "cell_type": "code",
   "execution_count": 17,
   "id": "dfe16b4c-b5bc-451c-9c95-168c8b56b8b2",
   "metadata": {},
   "outputs": [
    {
     "data": {
      "text/plain": [
       "array([ 6,  7,  8,  9, 10])"
      ]
     },
     "execution_count": 17,
     "metadata": {},
     "output_type": "execute_result"
    }
   ],
   "source": [
    "arr3[5:]"
   ]
  },
  {
   "cell_type": "code",
   "execution_count": 18,
   "id": "ee3767be-4459-4970-b71a-b430738be3b9",
   "metadata": {},
   "outputs": [
    {
     "data": {
      "text/plain": [
       "array([1, 2, 3, 4, 5])"
      ]
     },
     "execution_count": 18,
     "metadata": {},
     "output_type": "execute_result"
    }
   ],
   "source": [
    "arr3[:5]"
   ]
  },
  {
   "cell_type": "code",
   "execution_count": 19,
   "id": "250c12c7-2af9-494f-b11d-d24dbc69d928",
   "metadata": {},
   "outputs": [
    {
     "name": "stdout",
     "output_type": "stream",
     "text": [
      "[[ 1  2  3  4  5]\n",
      " [10 20  8  9  7]]\n"
     ]
    }
   ],
   "source": [
    "print(arr2)"
   ]
  },
  {
   "cell_type": "code",
   "execution_count": 21,
   "id": "a75938fb-2f20-48ac-ad47-25332da6c0a2",
   "metadata": {},
   "outputs": [
    {
     "name": "stdout",
     "output_type": "stream",
     "text": [
      "[20  8  9]\n"
     ]
    }
   ],
   "source": [
    "print(arr2[1,1:4])"
   ]
  },
  {
   "cell_type": "code",
   "execution_count": 22,
   "id": "27587f69-6077-4809-b6cd-904624f459b3",
   "metadata": {},
   "outputs": [
    {
     "name": "stdout",
     "output_type": "stream",
     "text": [
      "[[ 1  2  3  4  5]\n",
      " [10 20  8  9  7]]\n"
     ]
    }
   ],
   "source": [
    "#Copying an array\n",
    "arr4 = arr2.copy()\n",
    "print(arr4)"
   ]
  },
  {
   "cell_type": "code",
   "execution_count": 23,
   "id": "c5c0c657-1e3e-446b-b8c9-c63c892603dc",
   "metadata": {},
   "outputs": [
    {
     "data": {
      "text/plain": [
       "array([[0., 0., 0., 0.],\n",
       "       [0., 0., 0., 0.]])"
      ]
     },
     "execution_count": 23,
     "metadata": {},
     "output_type": "execute_result"
    }
   ],
   "source": [
    "#Zero Matrix\n",
    "np.zeros((2,4))"
   ]
  },
  {
   "cell_type": "code",
   "execution_count": 24,
   "id": "9a6d81d2-50e5-4185-a5c2-8736ebee8832",
   "metadata": {},
   "outputs": [
    {
     "data": {
      "text/plain": [
       "array([[[1., 1., 1.],\n",
       "        [1., 1., 1.],\n",
       "        [1., 1., 1.]],\n",
       "\n",
       "       [[1., 1., 1.],\n",
       "        [1., 1., 1.],\n",
       "        [1., 1., 1.]],\n",
       "\n",
       "       [[1., 1., 1.],\n",
       "        [1., 1., 1.],\n",
       "        [1., 1., 1.]],\n",
       "\n",
       "       [[1., 1., 1.],\n",
       "        [1., 1., 1.],\n",
       "        [1., 1., 1.]],\n",
       "\n",
       "       [[1., 1., 1.],\n",
       "        [1., 1., 1.],\n",
       "        [1., 1., 1.]],\n",
       "\n",
       "       [[1., 1., 1.],\n",
       "        [1., 1., 1.],\n",
       "        [1., 1., 1.]]])"
      ]
     },
     "execution_count": 24,
     "metadata": {},
     "output_type": "execute_result"
    }
   ],
   "source": [
    "# 1 Matrix\n",
    "np.ones((6,3,3))"
   ]
  },
  {
   "cell_type": "code",
   "execution_count": 7,
   "id": "ae79478f-0b5d-475b-a55e-3c385eb9cdfd",
   "metadata": {},
   "outputs": [
    {
     "data": {
      "text/plain": [
       "array([[45, 45, 45, 45],\n",
       "       [45, 45, 45, 45],\n",
       "       [45, 45, 45, 45],\n",
       "       [45, 45, 45, 45]])"
      ]
     },
     "execution_count": 7,
     "metadata": {},
     "output_type": "execute_result"
    }
   ],
   "source": [
    "#Other Matrix\n",
    "np.full((4,4),45)"
   ]
  },
  {
   "cell_type": "code",
   "execution_count": 1,
   "id": "7053bbb3-76f6-49a0-9ec4-550a9971dfd9",
   "metadata": {},
   "outputs": [],
   "source": [
    "#import random\n",
    "from numpy import random"
   ]
  },
  {
   "cell_type": "code",
   "execution_count": 2,
   "id": "cbe0f73e-e287-4a45-bff7-daa4cae8f9fc",
   "metadata": {},
   "outputs": [
    {
     "name": "stdout",
     "output_type": "stream",
     "text": [
      "82\n"
     ]
    }
   ],
   "source": [
    "x = random.randint(100)\n",
    "print(x)"
   ]
  },
  {
   "cell_type": "code",
   "execution_count": 8,
   "id": "6271b90e-fb32-4b0d-9189-60f23c6ca0d9",
   "metadata": {},
   "outputs": [
    {
     "data": {
      "text/plain": [
       "array([[0.9273452 , 0.3780833 , 0.72859926, 0.56208906],\n",
       "       [0.88211727, 0.52659016, 0.37251348, 0.26085586]])"
      ]
     },
     "execution_count": 8,
     "metadata": {},
     "output_type": "execute_result"
    }
   ],
   "source": [
    "np.random.rand(2,4)"
   ]
  },
  {
   "cell_type": "code",
   "execution_count": 9,
   "id": "f98474f9-68c3-4706-a67f-11a89bdc83fa",
   "metadata": {},
   "outputs": [
    {
     "data": {
      "text/plain": [
       "array([[1., 0., 0., 0., 0.],\n",
       "       [0., 1., 0., 0., 0.],\n",
       "       [0., 0., 1., 0., 0.],\n",
       "       [0., 0., 0., 1., 0.],\n",
       "       [0., 0., 0., 0., 1.]])"
      ]
     },
     "execution_count": 9,
     "metadata": {},
     "output_type": "execute_result"
    }
   ],
   "source": [
    "#Identity Matrix\n",
    "np.identity(5)"
   ]
  },
  {
   "cell_type": "code",
   "execution_count": 10,
   "id": "7d9c59ff-bd44-4c61-8f93-8b805276154b",
   "metadata": {},
   "outputs": [
    {
     "name": "stdout",
     "output_type": "stream",
     "text": [
      "[10  0  0 40]\n"
     ]
    }
   ],
   "source": [
    "#Mathematical Operation on array\n",
    "arrm = np.array([10,0,0,40])\n",
    "print(arrm)"
   ]
  },
  {
   "cell_type": "code",
   "execution_count": 11,
   "id": "95d6c861-2559-4dbc-9d9a-040cbde9a565",
   "metadata": {},
   "outputs": [
    {
     "name": "stdout",
     "output_type": "stream",
     "text": [
      "[20 10 10 50]\n"
     ]
    }
   ],
   "source": [
    "#Plus operation\n",
    "arrm = arrm+10\n",
    "print(arrm)"
   ]
  },
  {
   "cell_type": "code",
   "execution_count": 14,
   "id": "c2de9c38-edbf-40c4-88f1-74460b1d1cab",
   "metadata": {},
   "outputs": [
    {
     "name": "stdout",
     "output_type": "stream",
     "text": [
      "[  0 -10 -10  30]\n"
     ]
    }
   ],
   "source": [
    "#Substraction\n",
    "arrm = arrm-10\n",
    "print(arrm)"
   ]
  },
  {
   "cell_type": "code",
   "execution_count": 16,
   "id": "640df203-64d2-476f-8c42-791248501916",
   "metadata": {},
   "outputs": [
    {
     "name": "stdout",
     "output_type": "stream",
     "text": [
      "[  0 -10 -10  30]\n"
     ]
    },
    {
     "data": {
      "text/plain": [
       "array([  0, -20, -20,  60])"
      ]
     },
     "execution_count": 16,
     "metadata": {},
     "output_type": "execute_result"
    }
   ],
   "source": [
    "#Multiplication\n",
    "print(arrm)\n",
    "arrm*2"
   ]
  },
  {
   "cell_type": "code",
   "execution_count": 17,
   "id": "b5eea193-8ea2-4d53-b48e-d09d1290c89a",
   "metadata": {},
   "outputs": [
    {
     "data": {
      "text/plain": [
       "array([ 0.        , -1.42857143, -1.42857143,  4.28571429])"
      ]
     },
     "execution_count": 17,
     "metadata": {},
     "output_type": "execute_result"
    }
   ],
   "source": [
    "#Division\n",
    "arrm/7"
   ]
  },
  {
   "cell_type": "code",
   "execution_count": 19,
   "id": "a3025f97-a048-45a5-a732-58c4f4e24a9b",
   "metadata": {},
   "outputs": [
    {
     "name": "stdout",
     "output_type": "stream",
     "text": [
      "[12 20 35 44]\n"
     ]
    }
   ],
   "source": [
    "#Addition of 2 Arrays\n",
    "a1 = np.array([10,15,30,40])\n",
    "a2 = np.array([2,5,5,4])\n",
    "print(a1+a2)"
   ]
  },
  {
   "cell_type": "code",
   "execution_count": 20,
   "id": "a31b0ee3-76d7-44af-b541-b27ab5ad57ac",
   "metadata": {},
   "outputs": [
    {
     "data": {
      "text/plain": [
       "array([-0.83907153, -0.75968791,  0.15425145, -0.66693806])"
      ]
     },
     "execution_count": 20,
     "metadata": {},
     "output_type": "execute_result"
    }
   ],
   "source": [
    "#Cos function in an array\n",
    "np.cos(a1)"
   ]
  },
  {
   "cell_type": "code",
   "execution_count": 27,
   "id": "7ce8e7b5-7ebe-416e-b8cd-aab43aa3007f",
   "metadata": {},
   "outputs": [
    {
     "name": "stdout",
     "output_type": "stream",
     "text": [
      "[[ 1  2  3  4  5]\n",
      " [10 20  8  9  7]]\n"
     ]
    }
   ],
   "source": [
    "#Find minimum/maximum value in an array\n",
    "print(arr2)"
   ]
  },
  {
   "cell_type": "code",
   "execution_count": 29,
   "id": "3f592749-1960-46be-80e6-8a56e1fce3a9",
   "metadata": {},
   "outputs": [
    {
     "data": {
      "text/plain": [
       "np.int64(20)"
      ]
     },
     "execution_count": 29,
     "metadata": {},
     "output_type": "execute_result"
    }
   ],
   "source": [
    "np.min(arr2)\n",
    "np.max(arr2)"
   ]
  },
  {
   "cell_type": "code",
   "execution_count": 30,
   "id": "8da5802b-7ada-4d49-8dc4-0edb39b82b7d",
   "metadata": {},
   "outputs": [
    {
     "data": {
      "text/plain": [
       "np.int64(69)"
      ]
     },
     "execution_count": 30,
     "metadata": {},
     "output_type": "execute_result"
    }
   ],
   "source": [
    "np.sum(arr2)"
   ]
  },
  {
   "cell_type": "code",
   "execution_count": 31,
   "id": "e2a8689d-8643-4398-bba0-61647c81357b",
   "metadata": {},
   "outputs": [
    {
     "name": "stdout",
     "output_type": "stream",
     "text": [
      "10\n",
      "15\n",
      "30\n",
      "40\n"
     ]
    }
   ],
   "source": [
    "#iterating in 1-D\n",
    "for x in a1:\n",
    "    print(x)"
   ]
  },
  {
   "cell_type": "code",
   "execution_count": 32,
   "id": "3fd0df2a-f07a-4ec2-b157-522dc789ed0a",
   "metadata": {},
   "outputs": [
    {
     "name": "stdout",
     "output_type": "stream",
     "text": [
      "[1 2 3 4 5]\n",
      "[10 20  8  9  7]\n"
     ]
    }
   ],
   "source": [
    "#iterating in 2-D\n",
    "for z in arr2:\n",
    "    print(z)"
   ]
  },
  {
   "cell_type": "code",
   "execution_count": 33,
   "id": "b8e4f56f-0693-489a-8433-fe48f3ea01a4",
   "metadata": {},
   "outputs": [
    {
     "name": "stdout",
     "output_type": "stream",
     "text": [
      "1\n",
      "2\n",
      "3\n",
      "4\n",
      "5\n",
      "10\n",
      "20\n",
      "8\n",
      "9\n",
      "7\n"
     ]
    }
   ],
   "source": [
    "for a in arr2:\n",
    "    for b in a:\n",
    "        print(b)"
   ]
  },
  {
   "cell_type": "code",
   "execution_count": null,
   "id": "b1089ebe-2aed-41fa-9051-c5c846b62a6b",
   "metadata": {},
   "outputs": [],
   "source": []
  }
 ],
 "metadata": {
  "kernelspec": {
   "display_name": "Python [conda env:base] *",
   "language": "python",
   "name": "conda-base-py"
  },
  "language_info": {
   "codemirror_mode": {
    "name": "ipython",
    "version": 3
   },
   "file_extension": ".py",
   "mimetype": "text/x-python",
   "name": "python",
   "nbconvert_exporter": "python",
   "pygments_lexer": "ipython3",
   "version": "3.13.5"
  }
 },
 "nbformat": 4,
 "nbformat_minor": 5
}
